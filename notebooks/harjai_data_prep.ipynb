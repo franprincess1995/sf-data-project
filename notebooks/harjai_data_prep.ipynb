{
 "cells": [
  {
   "cell_type": "markdown",
   "id": "af22ab17-104d-4c1c-ad19-830ede85b1c9",
   "metadata": {},
   "source": [
    "# SF Data Project\n",
    "## By Kavish Harjai\n",
    "## Data Preparation"
   ]
  },
  {
   "cell_type": "markdown",
   "id": "f06f29ce-970c-4620-b6b6-b8f97509d79b",
   "metadata": {},
   "source": [
    "### Synopsis\n",
    "\n",
    "The San Francisco Rent Ordinance created the San Francisco Rent Board in 1979. The Board receives petitions from the city's landlords and tenants. In some cases, the Tent Board will oversee a mediation/arbitration session between the complainant and the alleged wrongdoer.  The nature of the petition, of course, varies depending on whom the filing party is, but the Rent Board can only adjudicate issues that are covered in the rent ordinance. \n",
    "\n",
    "I was specifically interested in investigating tenant petitions. In a petition, a tenant can allege one or more complaint, including wrongful eviction, unfair rent increase, a decrease in housing services (necessary repairs and replacements), etc. \n",
    "\n",
    "The city of San Francisco keeps a CSV of the petitions sent to the Board going back to January 1997. \n",
    "\n",
    "https://data.sfgov.org/Housing-and-Buildings/Petitions-to-the-Rent-Board/6swy-cmkq\n",
    "\n",
    "The data is \"wide,\" meaning each possible complaint is its own column, and each column contains boolean values: 'True' if the particular complaint is one of the reasons for the petition, and 'False' if not. In addition to those complaint columns, there are several columns important to this analysis, including: \n",
    "\n",
    "* petition_id: unique identifier for each petition\n",
    "* date_filed: when the petition was filed\n",
    "* filing_party: did a tenant or a landlord file the petition?\n",
    "* neighborhoods: in which neighborhood does the petitioner live? \n",
    "\n",
    "One thing that's critical to understand is that each row refers to one petition. But a single petition can include several complaints (according to the SF Rent Board website: \"The tenant may combine more than one type of claim in a Tenant Petition\").\n",
    "\n",
    "I will analyze petitions submitted by tenants from 2010 to present. I ask the following questions: \n",
    "\n",
    "* In which year did tenants file the most petitions?\n",
    "* What kinds of complaints are the most popular? \n",
    "* From which neighborhoods did most complaints arise? And how does the number of complaints compare to the population of renters in each neighborhood? \n",
    "\n",
    "This project is divided into two notebooks. One focused on data preparation and another focused on analysis. Both can be found in the notebooks subfolder. My findings are located in the analysis notebook.\n",
    "\n",
    "In this data preparation notebook, I prepare the data in three different chunks. In **Misc,** I import the csv and do a top-level analysis to understand the kind of data I'm working with. In **Filtering,** I whittle the dataframe down to the rows that will help me answer the above questions. In **Melt,** I reshape the data to be more conducive to analysis. "
   ]
  },
  {
   "cell_type": "markdown",
   "id": "696acd67-07b1-41eb-9c47-73cc92309dab",
   "metadata": {},
   "source": [
    "## Misc"
   ]
  },
  {
   "cell_type": "markdown",
   "id": "42094790-d5fa-4f7b-a65c-bc949ebbc9db",
   "metadata": {},
   "source": [
    "#### Import necessary libraries."
   ]
  },
  {
   "cell_type": "code",
   "execution_count": 37,
   "id": "2144e500-5712-4bdd-9452-de47e7538cf1",
   "metadata": {},
   "outputs": [],
   "source": [
    "import pandas as pd\n",
    "from datetime import datetime as dt\n",
    "import os\n",
    "import numpy as np"
   ]
  },
  {
   "cell_type": "code",
   "execution_count": 38,
   "id": "fa31c7cd-b1aa-4f4e-94df-7ecf70536aaf",
   "metadata": {},
   "outputs": [],
   "source": [
    "#pd.set_option('display.max_columns', None)\n",
    "#Optional command to view all columns! "
   ]
  },
  {
   "cell_type": "markdown",
   "id": "c01de1fb-e949-4ad0-ae32-50db7f8fc945",
   "metadata": {},
   "source": [
    "#### Set up relative paths so any user can run the analysis on their own machine."
   ]
  },
  {
   "cell_type": "code",
   "execution_count": 39,
   "id": "b5130004-1599-4c87-9bfe-9d1e5e315a3c",
   "metadata": {},
   "outputs": [],
   "source": [
    "data_dir = os.environ[\"DATA_DIR\"]\n",
    "raw_data = data_dir + \"/raw/\"\n",
    "processed_data = data_dir + '/processed/'\n",
    "petitions_file = os.path.join(raw_data, 'Petitions_to_the_Rent_Board.csv')"
   ]
  },
  {
   "cell_type": "markdown",
   "id": "b2d602f9-3972-4c8c-b8e5-3c8228aa2b41",
   "metadata": {},
   "source": [
    "#### Bring in CSV as a dataframe called 'all_petitions' and investigate the data for null values, data types, etc."
   ]
  },
  {
   "cell_type": "code",
   "execution_count": 40,
   "id": "9e5133b9-6880-4a4d-991e-e96038fbf800",
   "metadata": {},
   "outputs": [],
   "source": [
    "all_petitions = pd.read_csv(petitions_file, low_memory=False)"
   ]
  },
  {
   "cell_type": "code",
   "execution_count": 41,
   "id": "847e27cd-caba-4655-b6a0-4f684dcfc847",
   "metadata": {
    "tags": []
   },
   "outputs": [
    {
     "name": "stdout",
     "output_type": "stream",
     "text": [
      "<class 'pandas.core.frame.DataFrame'>\n",
      "RangeIndex: 51881 entries, 0 to 51880\n",
      "Data columns (total 43 columns):\n",
      " #   Column                                                              Non-Null Count  Dtype  \n",
      "---  ------                                                              --------------  -----  \n",
      " 0   Petition ID                                                         51881 non-null  object \n",
      " 1   Date Filed                                                          51881 non-null  object \n",
      " 2   Priority                                                            51881 non-null  bool   \n",
      " 3   Appeal ID                                                           81 non-null     object \n",
      " 4   Filing Party                                                        51869 non-null  object \n",
      " 5   Prop I Petition                                                     215 non-null    object \n",
      " 6   Ground (landlord): Capital Improvement                              51881 non-null  bool   \n",
      " 7   Ground (landlord): Comparable Rents                                 51881 non-null  bool   \n",
      " 8   Ground (landlord): Extension of Time for Capital Improvements       51881 non-null  bool   \n",
      " 9   Ground (landlord): Intent to Withdraw (Ellis)                       51881 non-null  bool   \n",
      " 10  Ground (landlord): Other                                            51881 non-null  bool   \n",
      " 11  Ground (landlord): Operating & Maintenance                          51881 non-null  bool   \n",
      " 12  Ground (landlord): Substantial Rehabilitation                       51881 non-null  bool   \n",
      " 13  Ground (landlord):  Costa-Hawkins                                   51881 non-null  bool   \n",
      " 14  Ground (landlord):  Exemption                                       51881 non-null  bool   \n",
      " 15  Ground (landlord): Rules and Regulations Section 1.21               51881 non-null  bool   \n",
      " 16  Ground (landlord): Rules and Regulations Section 6.14               51881 non-null  bool   \n",
      " 17  Ground (landlord): Rules and Regulations Section 6.15               51881 non-null  bool   \n",
      " 18  Ground (landlord): SRO Hotel Vistor Policy Petition                 0 non-null      float64\n",
      " 19  Ground (landlord): Utility Passthrough Petition                     51881 non-null  bool   \n",
      " 20  Ground (landlord): Owner Move-In Disability Determination           51881 non-null  bool   \n",
      " 21  Ground (landlord): Utility Passthrough Worksheet                    0 non-null      float64\n",
      " 22  Ground (landlord): Non-Comparable Rents                             0 non-null      float64\n",
      " 23  Ground (tenant): Decrease in Housing Services                       51881 non-null  bool   \n",
      " 24  Ground (tenant): Failure to Repair and Maintain                     51881 non-null  bool   \n",
      " 25  Ground (tenant): Passthrough Challenge                              51881 non-null  bool   \n",
      " 26  Ground (tenant): Summary Petition                                   51881 non-null  bool   \n",
      " 27  Ground (tenant): Unlawful Rent Increase                             51881 non-null  bool   \n",
      " 28  Ground (tenant): Wrongful Eviction Report                           51881 non-null  bool   \n",
      " 29  Ground (tenant): Section 8 tenancy                                  51881 non-null  bool   \n",
      " 30  Ground (tenant): SRO Hotel Vistor Policy Petition                   51881 non-null  bool   \n",
      " 31  Ground (tenant): Rules and Regulations Section 6.15                 51881 non-null  bool   \n",
      " 32  Ground (tenant): Other                                              51881 non-null  bool   \n",
      " 33  Ground (tenant): Utility Passhtrough Hardship                       51881 non-null  bool   \n",
      " 34  Ground (tenant): Water Revenue Bond Passthrough Hardship            51881 non-null  bool   \n",
      " 35  Ground (tenant): Capital Improvement Passthrough Hardship Petition  51881 non-null  bool   \n",
      " 36  Ground (tenant): Wrongful Severance of Housing Service              51881 non-null  bool   \n",
      " 37  Ground: Alternative Dispute Resolution                              51881 non-null  bool   \n",
      " 38  Address                                                             51881 non-null  object \n",
      " 39  Petition Source Zipcode                                             51818 non-null  object \n",
      " 40  Supervisor District                                                 50536 non-null  float64\n",
      " 41  Neighborhoods - Analysis Boundaries                                 50536 non-null  object \n",
      " 42  shape                                                               50550 non-null  object \n",
      "dtypes: bool(30), float64(4), object(9)\n",
      "memory usage: 6.6+ MB\n"
     ]
    }
   ],
   "source": [
    "all_petitions.info()"
   ]
  },
  {
   "cell_type": "markdown",
   "id": "a91d6bca-bc7c-48fe-a115-5ad043a5380c",
   "metadata": {},
   "source": [
    "#### Overall, the data looks pretty good 😎\n",
    "\n",
    "##### The good:\n",
    "\n",
    "* All the tenant complaint columns are filled—that means there's either a True or False value in each of the rows.\n",
    "* The petition_id and date_filed columns are also all filled out.\n",
    "\n",
    "##### The bad:\n",
    "\n",
    "* There are 12 missing values in the filing_party column. That's a negligible amount considering the size of the dataset, but I'll need to filter those out before I filter for just tenant complaints. \n",
    "* There are just more than 1,300 missing values for the neighborhoods column. That'll be important to consider in the next coming steps since that column is central to my questions.\n",
    "* The column headers aren't cute: they're not standardized and include spaces. \n",
    "\n",
    "##### The ugly:\n",
    "\n",
    "* As mentioned before, the data is wide-shaped. That will require I melt the data later. \n",
    "* Many columns (those referring to landlord complaints) are irrelevant to this analysis. "
   ]
  },
  {
   "cell_type": "markdown",
   "id": "98893f74-eff1-4ed2-9a96-3010723e6326",
   "metadata": {},
   "source": [
    "#### One thing I need to do before I go crazy is condense and reformat the names into snake_case."
   ]
  },
  {
   "cell_type": "code",
   "execution_count": 42,
   "id": "216ae90b-fc6b-4cb0-ac5e-00dcd1fb2ab8",
   "metadata": {},
   "outputs": [],
   "source": [
    "all_petitions = all_petitions.rename(columns={'Petition ID': 'petition_id', \n",
    "                                              'Date Filed': 'date_filed', \n",
    "                                              'Appeal ID': 'appeal_id', \n",
    "                                              'Filing Party': 'filing_party',\n",
    "                                              'Prop I Petition': 'prop_i_petition',\n",
    "                                             'Ground (tenant): Unlawful Rent Increase': 'tenant_rent_increase',\n",
    "                                             'Petition Source Zipcode': 'petition_zip_code',\n",
    "                                             'Supervisor District': 'supervisor_district',\n",
    "                                             'Neighborhoods - Analysis Boundaries': 'neighborhoods',\n",
    "                                           'Ground (tenant): Decrease in Housing Services': 'tenant_decrease_housing_services',\n",
    "                                          'Ground (tenant): Failure to Repair and Maintain':'tenant_failure_repair_maintain',\n",
    "                                          'Ground (tenant): Passthrough Challenge':'tenant_passthrough_challenge',\n",
    "                                          'Ground (tenant): Summary Petition': 'tenant_summary_petition',\n",
    "                                          'rent_increase_complaint':'tenant_rent_increase',\n",
    "                                          'Ground (tenant): Wrongful Eviction Report':'tenant_wrongful_eviction',\n",
    "                                          'Ground (tenant): Section 8 tenancy':'tenant_section_eight',\n",
    "                                          'Ground (tenant): SRO Hotel Vistor Policy Petition':'tenant_hotel_visitor',\n",
    "                                          'Ground (tenant): Rules and Regulations Section 6.15': 'tenant_section_six',\n",
    "                                          'Ground (tenant): Other':'tenant_other',\n",
    "                                          'Ground (tenant): Utility Passhtrough Hardship':'tenant_utility_passthrough',\n",
    "                                          'Ground (tenant): Water Revenue Bond Passthrough Hardship':'tenant_water_revenue_hardship',\n",
    "                                          'Ground (tenant): Capital Improvement Passthrough Hardship Petition':'tenant_capital_improvement',\n",
    "                                          'Ground (tenant): Wrongful Severance of Housing Service':'tenant_wrongful_severance',\n",
    "                                          'Ground: Alternative Dispute Resolution':'tenant_alt_dispute'\n",
    "                                         }\n",
    "                                )"
   ]
  },
  {
   "cell_type": "markdown",
   "id": "fde16617-e712-44be-9def-1991b3bbf03b",
   "metadata": {},
   "source": [
    "####  I'm going to convert the date_filed column to a datetime object, so I can create two extra columns indicating in which month and year each petition was filed."
   ]
  },
  {
   "cell_type": "code",
   "execution_count": 43,
   "id": "1791de72-80c3-4c9a-b2f4-bfe82b259522",
   "metadata": {},
   "outputs": [],
   "source": [
    "all_petitions['date_filed'] =  pd.to_datetime(all_petitions['date_filed'], format='%m/%d/%Y')"
   ]
  },
  {
   "cell_type": "code",
   "execution_count": 44,
   "id": "37713a6a-5530-4200-8f65-bbf994458701",
   "metadata": {},
   "outputs": [],
   "source": [
    "all_petitions['year'] = pd.DatetimeIndex(all_petitions['date_filed']).year\n",
    "all_petitions['month'] = pd.DatetimeIndex(all_petitions['date_filed']).month"
   ]
  },
  {
   "cell_type": "markdown",
   "id": "8dd26117-7c07-4a81-87c0-4407bc2aa3a1",
   "metadata": {},
   "source": [
    "## Filtering"
   ]
  },
  {
   "cell_type": "markdown",
   "id": "1fa29ab2-2f97-41e0-961a-de1df7c684f8",
   "metadata": {},
   "source": [
    "#### My analysis is contingent on filtering for complaints from tenants. I saw from my .info() command above that there are 12 observations where the filing party value is null. I'll remove those 12 observations. "
   ]
  },
  {
   "cell_type": "code",
   "execution_count": 45,
   "id": "4db35d08-2412-4b8c-a602-15056e904ec5",
   "metadata": {},
   "outputs": [],
   "source": [
    "all_petitions = all_petitions[all_petitions['filing_party'].notna()]"
   ]
  },
  {
   "cell_type": "markdown",
   "id": "790fe883-46ab-4e4f-a18d-87408a40d22e",
   "metadata": {},
   "source": [
    "#### Ok, I'll first filter for petitions since 2010. The date_mask object is a series of boolean values that indicates whether each row satisfies the conditions I've applied. Then I use .loc to create a new dataframe where all the boolean values=True. "
   ]
  },
  {
   "cell_type": "code",
   "execution_count": 46,
   "id": "94fb0d32-2e37-4728-9c86-6b6d41ff184d",
   "metadata": {},
   "outputs": [],
   "source": [
    "date_mask = (all_petitions['date_filed'] >= '2010-01-01') & (all_petitions['date_filed'] <= '2022-02-20')\n",
    "petitions_since_2010 = all_petitions.loc[date_mask]"
   ]
  },
  {
   "cell_type": "markdown",
   "id": "96f007ef-467c-4a47-968e-bac5d85a86bb",
   "metadata": {},
   "source": [
    "#### Checking to make sure my method work:"
   ]
  },
  {
   "cell_type": "code",
   "execution_count": 47,
   "id": "c7b107ab-99c5-482f-8159-b89a237e4e29",
   "metadata": {},
   "outputs": [
    {
     "data": {
      "text/plain": [
       "Timestamp('2010-01-04 00:00:00')"
      ]
     },
     "execution_count": 47,
     "metadata": {},
     "output_type": "execute_result"
    }
   ],
   "source": [
    "petitions_since_2010.date_filed.min()"
   ]
  },
  {
   "cell_type": "markdown",
   "id": "d5c0d533-3b80-45d3-b5b9-41ea9b212d61",
   "metadata": {},
   "source": [
    "#### Ok, nice. That worked. Let me apply the same logic to filter for petitions filed by tenants."
   ]
  },
  {
   "cell_type": "code",
   "execution_count": 48,
   "id": "ccabd815-641f-4614-8cf6-cd1db9584a35",
   "metadata": {},
   "outputs": [],
   "source": [
    "filing_party_mask = petitions_since_2010['filing_party'] == 'tenant'\n",
    "tenant_petitions_since_2010 = petitions_since_2010.loc[filing_party_mask]"
   ]
  },
  {
   "cell_type": "markdown",
   "id": "581a7b5a-a6e5-4cca-97f2-e410b462f3d1",
   "metadata": {},
   "source": [
    "#### Checking myself again. Gonna do some math and see if my filtering matches up:\n",
    "\n",
    "* X = petitions since 2010\n",
    "* Y = petitions filed by landlords since 2010\n",
    "\n",
    "#### If X - Y = the amount of observations in the tenants-only dataframe, then I know I filtered correctly."
   ]
  },
  {
   "cell_type": "code",
   "execution_count": 49,
   "id": "5546e5fe-b30d-484f-8ee1-eb7dba18a9dc",
   "metadata": {},
   "outputs": [],
   "source": [
    "X = len(petitions_since_2010)"
   ]
  },
  {
   "cell_type": "code",
   "execution_count": 50,
   "id": "ed9b0c61-a261-48d5-8345-6c4c66d64aaa",
   "metadata": {},
   "outputs": [],
   "source": [
    "Y = len(petitions_since_2010[petitions_since_2010['filing_party'] == 'landlord'])"
   ]
  },
  {
   "cell_type": "code",
   "execution_count": 51,
   "id": "66bab58b-8f25-48b3-9ca4-ac8949a41082",
   "metadata": {},
   "outputs": [
    {
     "data": {
      "text/plain": [
       "16171"
      ]
     },
     "execution_count": 51,
     "metadata": {},
     "output_type": "execute_result"
    }
   ],
   "source": [
    "len(tenant_petitions_since_2010)"
   ]
  },
  {
   "cell_type": "code",
   "execution_count": 52,
   "id": "105cf13c-cd31-4f5e-9cca-108f10ab2586",
   "metadata": {},
   "outputs": [
    {
     "data": {
      "text/plain": [
       "16171"
      ]
     },
     "execution_count": 52,
     "metadata": {},
     "output_type": "execute_result"
    }
   ],
   "source": [
    "X - Y "
   ]
  },
  {
   "cell_type": "markdown",
   "id": "b1d52cc9-5183-4a78-b1ac-7d139e3db71a",
   "metadata": {},
   "source": [
    "#### Woot! Let's keep going. \n",
    "\n",
    "#### Ok, here I remember that there are some missing values for neighborhoods to deal with. Now that I've filtered the dataframe for only tenant petitions since 2010, let's see how many neighborhood values are missing. Recall that in the OG dataframe, more than 1,300 were missing. "
   ]
  },
  {
   "cell_type": "code",
   "execution_count": 53,
   "id": "b4310c74-61c8-4de9-bdfb-8c4322410a18",
   "metadata": {
    "tags": []
   },
   "outputs": [
    {
     "name": "stdout",
     "output_type": "stream",
     "text": [
      "<class 'pandas.core.frame.DataFrame'>\n",
      "Int64Index: 16171 entries, 841 to 26099\n",
      "Data columns (total 45 columns):\n",
      " #   Column                                                         Non-Null Count  Dtype         \n",
      "---  ------                                                         --------------  -----         \n",
      " 0   petition_id                                                    16171 non-null  object        \n",
      " 1   date_filed                                                     16171 non-null  datetime64[ns]\n",
      " 2   Priority                                                       16171 non-null  bool          \n",
      " 3   appeal_id                                                      0 non-null      object        \n",
      " 4   filing_party                                                   16171 non-null  object        \n",
      " 5   prop_i_petition                                                1 non-null      object        \n",
      " 6   Ground (landlord): Capital Improvement                         16171 non-null  bool          \n",
      " 7   Ground (landlord): Comparable Rents                            16171 non-null  bool          \n",
      " 8   Ground (landlord): Extension of Time for Capital Improvements  16171 non-null  bool          \n",
      " 9   Ground (landlord): Intent to Withdraw (Ellis)                  16171 non-null  bool          \n",
      " 10  Ground (landlord): Other                                       16171 non-null  bool          \n",
      " 11  Ground (landlord): Operating & Maintenance                     16171 non-null  bool          \n",
      " 12  Ground (landlord): Substantial Rehabilitation                  16171 non-null  bool          \n",
      " 13  Ground (landlord):  Costa-Hawkins                              16171 non-null  bool          \n",
      " 14  Ground (landlord):  Exemption                                  16171 non-null  bool          \n",
      " 15  Ground (landlord): Rules and Regulations Section 1.21          16171 non-null  bool          \n",
      " 16  Ground (landlord): Rules and Regulations Section 6.14          16171 non-null  bool          \n",
      " 17  Ground (landlord): Rules and Regulations Section 6.15          16171 non-null  bool          \n",
      " 18  Ground (landlord): SRO Hotel Vistor Policy Petition            0 non-null      float64       \n",
      " 19  Ground (landlord): Utility Passthrough Petition                16171 non-null  bool          \n",
      " 20  Ground (landlord): Owner Move-In Disability Determination      16171 non-null  bool          \n",
      " 21  Ground (landlord): Utility Passthrough Worksheet               0 non-null      float64       \n",
      " 22  Ground (landlord): Non-Comparable Rents                        0 non-null      float64       \n",
      " 23  tenant_decrease_housing_services                               16171 non-null  bool          \n",
      " 24  tenant_failure_repair_maintain                                 16171 non-null  bool          \n",
      " 25  tenant_passthrough_challenge                                   16171 non-null  bool          \n",
      " 26  tenant_summary_petition                                        16171 non-null  bool          \n",
      " 27  tenant_rent_increase                                           16171 non-null  bool          \n",
      " 28  tenant_wrongful_eviction                                       16171 non-null  bool          \n",
      " 29  tenant_section_eight                                           16171 non-null  bool          \n",
      " 30  tenant_hotel_visitor                                           16171 non-null  bool          \n",
      " 31  tenant_section_six                                             16171 non-null  bool          \n",
      " 32  tenant_other                                                   16171 non-null  bool          \n",
      " 33  tenant_utility_passthrough                                     16171 non-null  bool          \n",
      " 34  tenant_water_revenue_hardship                                  16171 non-null  bool          \n",
      " 35  tenant_capital_improvement                                     16171 non-null  bool          \n",
      " 36  tenant_wrongful_severance                                      16171 non-null  bool          \n",
      " 37  tenant_alt_dispute                                             16171 non-null  bool          \n",
      " 38  Address                                                        16171 non-null  object        \n",
      " 39  petition_zip_code                                              16165 non-null  object        \n",
      " 40  supervisor_district                                            15858 non-null  float64       \n",
      " 41  neighborhoods                                                  15858 non-null  object        \n",
      " 42  shape                                                          15866 non-null  object        \n",
      " 43  year                                                           16171 non-null  int64         \n",
      " 44  month                                                          16171 non-null  int64         \n",
      "dtypes: bool(30), datetime64[ns](1), float64(4), int64(2), object(8)\n",
      "memory usage: 2.4+ MB\n"
     ]
    }
   ],
   "source": [
    "tenant_petitions_since_2010.info()"
   ]
  },
  {
   "cell_type": "markdown",
   "id": "46c71c94-ae28-4e0f-9f17-7a87c7b166ac",
   "metadata": {},
   "source": [
    "#### Ok, there are about 300 missing neighborhood values in my filtered dataframe. \n",
    "\n",
    "#### I still think it's a small amount compared to the size of the dataframe, so I'll eliminate the rows missing that value from the dataframe. "
   ]
  },
  {
   "cell_type": "code",
   "execution_count": 67,
   "id": "6c565f7a-2d0e-4d8f-b630-69290de3087b",
   "metadata": {},
   "outputs": [],
   "source": [
    "tenant_petitions_since_2010 = tenant_petitions_since_2010[\n",
    "    tenant_petitions_since_2010[\n",
    "        'neighborhoods']\n",
    "    .notna()]"
   ]
  },
  {
   "cell_type": "code",
   "execution_count": 68,
   "id": "3a920f94-a5fe-4c6c-9031-db4f7d79d567",
   "metadata": {
    "tags": []
   },
   "outputs": [
    {
     "data": {
      "text/html": [
       "<div>\n",
       "<style scoped>\n",
       "    .dataframe tbody tr th:only-of-type {\n",
       "        vertical-align: middle;\n",
       "    }\n",
       "\n",
       "    .dataframe tbody tr th {\n",
       "        vertical-align: top;\n",
       "    }\n",
       "\n",
       "    .dataframe thead th {\n",
       "        text-align: right;\n",
       "    }\n",
       "</style>\n",
       "<table border=\"1\" class=\"dataframe\">\n",
       "  <thead>\n",
       "    <tr style=\"text-align: right;\">\n",
       "      <th></th>\n",
       "      <th>petition_id</th>\n",
       "      <th>date_filed</th>\n",
       "      <th>Priority</th>\n",
       "      <th>appeal_id</th>\n",
       "      <th>filing_party</th>\n",
       "      <th>prop_i_petition</th>\n",
       "      <th>tenant_decrease_housing_services</th>\n",
       "      <th>tenant_failure_repair_maintain</th>\n",
       "      <th>tenant_passthrough_challenge</th>\n",
       "      <th>tenant_summary_petition</th>\n",
       "      <th>...</th>\n",
       "      <th>tenant_capital_improvement</th>\n",
       "      <th>tenant_wrongful_severance</th>\n",
       "      <th>tenant_alt_dispute</th>\n",
       "      <th>Address</th>\n",
       "      <th>petition_zip_code</th>\n",
       "      <th>supervisor_district</th>\n",
       "      <th>neighborhoods</th>\n",
       "      <th>shape</th>\n",
       "      <th>year</th>\n",
       "      <th>month</th>\n",
       "    </tr>\n",
       "  </thead>\n",
       "  <tbody>\n",
       "    <tr>\n",
       "      <th>1331</th>\n",
       "      <td>T211020</td>\n",
       "      <td>2021-12-02</td>\n",
       "      <td>False</td>\n",
       "      <td>NaN</td>\n",
       "      <td>tenant</td>\n",
       "      <td>NaN</td>\n",
       "      <td>False</td>\n",
       "      <td>False</td>\n",
       "      <td>False</td>\n",
       "      <td>False</td>\n",
       "      <td>...</td>\n",
       "      <td>True</td>\n",
       "      <td>False</td>\n",
       "      <td>False</td>\n",
       "      <td>1400 Block Of 09th Avenue</td>\n",
       "      <td>94122</td>\n",
       "      <td>5.0</td>\n",
       "      <td>Inner Sunset</td>\n",
       "      <td>POINT (-122.46612 37.761242)</td>\n",
       "      <td>2021</td>\n",
       "      <td>12</td>\n",
       "    </tr>\n",
       "    <tr>\n",
       "      <th>1332</th>\n",
       "      <td>T210954</td>\n",
       "      <td>2021-11-15</td>\n",
       "      <td>False</td>\n",
       "      <td>NaN</td>\n",
       "      <td>tenant</td>\n",
       "      <td>NaN</td>\n",
       "      <td>True</td>\n",
       "      <td>False</td>\n",
       "      <td>False</td>\n",
       "      <td>False</td>\n",
       "      <td>...</td>\n",
       "      <td>False</td>\n",
       "      <td>False</td>\n",
       "      <td>False</td>\n",
       "      <td>0 Block Of 06th Street</td>\n",
       "      <td>94103</td>\n",
       "      <td>6.0</td>\n",
       "      <td>South of Market</td>\n",
       "      <td>POINT (-122.40897 37.781185)</td>\n",
       "      <td>2021</td>\n",
       "      <td>11</td>\n",
       "    </tr>\n",
       "    <tr>\n",
       "      <th>1333</th>\n",
       "      <td>T210953</td>\n",
       "      <td>2021-11-15</td>\n",
       "      <td>False</td>\n",
       "      <td>NaN</td>\n",
       "      <td>tenant</td>\n",
       "      <td>NaN</td>\n",
       "      <td>False</td>\n",
       "      <td>False</td>\n",
       "      <td>False</td>\n",
       "      <td>False</td>\n",
       "      <td>...</td>\n",
       "      <td>False</td>\n",
       "      <td>False</td>\n",
       "      <td>False</td>\n",
       "      <td>1200 Block Of 06th Avenue</td>\n",
       "      <td>94122</td>\n",
       "      <td>5.0</td>\n",
       "      <td>Inner Sunset</td>\n",
       "      <td>POINT (-122.4632 37.765587)</td>\n",
       "      <td>2021</td>\n",
       "      <td>11</td>\n",
       "    </tr>\n",
       "    <tr>\n",
       "      <th>1334</th>\n",
       "      <td>T210866</td>\n",
       "      <td>2021-10-13</td>\n",
       "      <td>False</td>\n",
       "      <td>NaN</td>\n",
       "      <td>tenant</td>\n",
       "      <td>NaN</td>\n",
       "      <td>True</td>\n",
       "      <td>False</td>\n",
       "      <td>False</td>\n",
       "      <td>False</td>\n",
       "      <td>...</td>\n",
       "      <td>False</td>\n",
       "      <td>False</td>\n",
       "      <td>False</td>\n",
       "      <td>100 Block Of 06th Street</td>\n",
       "      <td>94103</td>\n",
       "      <td>6.0</td>\n",
       "      <td>South of Market</td>\n",
       "      <td>POINT (-122.40843 37.780754)</td>\n",
       "      <td>2021</td>\n",
       "      <td>10</td>\n",
       "    </tr>\n",
       "    <tr>\n",
       "      <th>1335</th>\n",
       "      <td>T210700</td>\n",
       "      <td>2021-08-26</td>\n",
       "      <td>False</td>\n",
       "      <td>NaN</td>\n",
       "      <td>tenant</td>\n",
       "      <td>NaN</td>\n",
       "      <td>False</td>\n",
       "      <td>False</td>\n",
       "      <td>False</td>\n",
       "      <td>False</td>\n",
       "      <td>...</td>\n",
       "      <td>False</td>\n",
       "      <td>False</td>\n",
       "      <td>False</td>\n",
       "      <td>0 Block Of 06th Street</td>\n",
       "      <td>94103</td>\n",
       "      <td>6.0</td>\n",
       "      <td>South of Market</td>\n",
       "      <td>POINT (-122.40897 37.781185)</td>\n",
       "      <td>2021</td>\n",
       "      <td>8</td>\n",
       "    </tr>\n",
       "  </tbody>\n",
       "</table>\n",
       "<p>5 rows × 28 columns</p>\n",
       "</div>"
      ],
      "text/plain": [
       "     petition_id date_filed  Priority appeal_id filing_party prop_i_petition  \\\n",
       "1331     T211020 2021-12-02     False       NaN       tenant             NaN   \n",
       "1332     T210954 2021-11-15     False       NaN       tenant             NaN   \n",
       "1333     T210953 2021-11-15     False       NaN       tenant             NaN   \n",
       "1334     T210866 2021-10-13     False       NaN       tenant             NaN   \n",
       "1335     T210700 2021-08-26     False       NaN       tenant             NaN   \n",
       "\n",
       "      tenant_decrease_housing_services  tenant_failure_repair_maintain  \\\n",
       "1331                             False                           False   \n",
       "1332                              True                           False   \n",
       "1333                             False                           False   \n",
       "1334                              True                           False   \n",
       "1335                             False                           False   \n",
       "\n",
       "      tenant_passthrough_challenge  tenant_summary_petition  ...  \\\n",
       "1331                         False                    False  ...   \n",
       "1332                         False                    False  ...   \n",
       "1333                         False                    False  ...   \n",
       "1334                         False                    False  ...   \n",
       "1335                         False                    False  ...   \n",
       "\n",
       "      tenant_capital_improvement  tenant_wrongful_severance  \\\n",
       "1331                        True                      False   \n",
       "1332                       False                      False   \n",
       "1333                       False                      False   \n",
       "1334                       False                      False   \n",
       "1335                       False                      False   \n",
       "\n",
       "      tenant_alt_dispute                    Address  petition_zip_code  \\\n",
       "1331               False  1400 Block Of 09th Avenue              94122   \n",
       "1332               False     0 Block Of 06th Street              94103   \n",
       "1333               False  1200 Block Of 06th Avenue              94122   \n",
       "1334               False   100 Block Of 06th Street              94103   \n",
       "1335               False     0 Block Of 06th Street              94103   \n",
       "\n",
       "      supervisor_district    neighborhoods                         shape  \\\n",
       "1331                  5.0     Inner Sunset  POINT (-122.46612 37.761242)   \n",
       "1332                  6.0  South of Market  POINT (-122.40897 37.781185)   \n",
       "1333                  5.0     Inner Sunset   POINT (-122.4632 37.765587)   \n",
       "1334                  6.0  South of Market  POINT (-122.40843 37.780754)   \n",
       "1335                  6.0  South of Market  POINT (-122.40897 37.781185)   \n",
       "\n",
       "      year  month  \n",
       "1331  2021     12  \n",
       "1332  2021     11  \n",
       "1333  2021     11  \n",
       "1334  2021     10  \n",
       "1335  2021      8  \n",
       "\n",
       "[5 rows x 28 columns]"
      ]
     },
     "execution_count": 68,
     "metadata": {},
     "output_type": "execute_result"
    }
   ],
   "source": [
    "tenant_petitions_since_2010.head()"
   ]
  },
  {
   "cell_type": "markdown",
   "id": "f1465b84-23a8-4b6c-a24d-54c2b9154ae7",
   "metadata": {},
   "source": [
    "#### Last step of this data preparation section is to drop the columns about landlord complaints, since they aren't relevant to my analysis. "
   ]
  },
  {
   "cell_type": "code",
   "execution_count": 56,
   "id": "9aa700e4-e4bc-4317-b989-0ff83f069582",
   "metadata": {},
   "outputs": [],
   "source": [
    "tenant_petitions_since_2010 = tenant_petitions_since_2010.drop(labels = ['Ground (landlord): Capital Improvement',\n",
    "                                                                     'Ground (landlord): Comparable Rents',\n",
    "                                                                     'Ground (landlord): Extension of Time for Capital Improvements',\n",
    "                                                                     'Ground (landlord): Intent to Withdraw (Ellis)',\n",
    "                                                                     'Ground (landlord): Other',\n",
    "                                                                     'Ground (landlord): Operating & Maintenance',\n",
    "                                                                     'Ground (landlord): Substantial Rehabilitation',\n",
    "                                                                     'Ground (landlord):  Costa-Hawkins',\n",
    "                                                                     'Ground (landlord):  Exemption',\n",
    "                                                                     'Ground (landlord): Rules and Regulations Section 1.21',\n",
    "                                                                     'Ground (landlord): Rules and Regulations Section 6.14',\n",
    "                                                                     'Ground (landlord): Rules and Regulations Section 6.15',\n",
    "                                                                     'Ground (landlord): SRO Hotel Vistor Policy Petition',\n",
    "                                                                     'Ground (landlord): Utility Passthrough Petition',\n",
    "                                                                     'Ground (landlord): Owner Move-In Disability Determination',\n",
    "                                                                     'Ground (landlord): Utility Passthrough Worksheet',\n",
    "                                                                     'Ground (landlord): Non-Comparable Rents'],\n",
    "                                                           axis=1)"
   ]
  },
  {
   "cell_type": "markdown",
   "id": "0cfb645a-d442-40fa-b9a4-f580a3f680a8",
   "metadata": {},
   "source": [
    "## Melting dataframe"
   ]
  },
  {
   "cell_type": "markdown",
   "id": "4457c6fb-e14d-41f0-9efe-98443d6e7142",
   "metadata": {},
   "source": [
    "#### I'll start by using list comprehension to assess which columns I'll need to melt. These are all the tenant complaint columns. Recall that the values in each of these columns is either True or False, depending if a petition is based on that complaint. "
   ]
  },
  {
   "cell_type": "code",
   "execution_count": 70,
   "id": "6b4598c4-c097-455f-8ed5-a489cbcd1b80",
   "metadata": {
    "tags": []
   },
   "outputs": [
    {
     "data": {
      "text/plain": [
       "['tenant_decrease_housing_services',\n",
       " 'tenant_failure_repair_maintain',\n",
       " 'tenant_passthrough_challenge',\n",
       " 'tenant_summary_petition',\n",
       " 'tenant_rent_increase',\n",
       " 'tenant_wrongful_eviction',\n",
       " 'tenant_section_eight',\n",
       " 'tenant_hotel_visitor',\n",
       " 'tenant_section_six',\n",
       " 'tenant_other',\n",
       " 'tenant_utility_passthrough',\n",
       " 'tenant_water_revenue_hardship',\n",
       " 'tenant_capital_improvement',\n",
       " 'tenant_wrongful_severance',\n",
       " 'tenant_alt_dispute']"
      ]
     },
     "execution_count": 70,
     "metadata": {},
     "output_type": "execute_result"
    }
   ],
   "source": [
    "[column for column in tenant_petitions_since_2010.columns if 'tenant' in column]"
   ]
  },
  {
   "cell_type": "markdown",
   "id": "afa18672-f48d-41ed-ba9b-b1224c825e0f",
   "metadata": {},
   "source": [
    "#### The melt function calls for an argument 'id_vars.' These are the columns that won't be pivoted to the row format. I'll use the inverse statement from my previous cell to set the 'id_vars.'"
   ]
  },
  {
   "cell_type": "code",
   "execution_count": 58,
   "id": "a290f965-297e-48a5-a78e-07119733af47",
   "metadata": {},
   "outputs": [],
   "source": [
    "id_vars = [column for column in tenant_petitions_since_2010.columns if 'tenant' not in column]"
   ]
  },
  {
   "cell_type": "markdown",
   "id": "2c226617-37f6-4d68-bc59-86af318cd0e7",
   "metadata": {},
   "source": [
    "#### The next cell carries the melt function out. It will take the tenant complaint columns and convert them into rows, where each column name will be inserted as a value under a different column called 'reason,' and where each True/False value will be inserted into a second column called 'value.'"
   ]
  },
  {
   "cell_type": "code",
   "execution_count": 59,
   "id": "bce6e4f6-ac73-40e8-8617-1664aaf8936c",
   "metadata": {},
   "outputs": [],
   "source": [
    "melted_tenant_petitions = pd.melt(tenant_petitions_since_2010,\n",
    "                                  id_vars=id_vars,\n",
    "                                  var_name='reason',\n",
    "                                  value_name='value',\n",
    "                                 )"
   ]
  },
  {
   "cell_type": "markdown",
   "id": "43d6f013-983d-4c06-8e82-ce439e2a8b14",
   "metadata": {},
   "source": [
    "#### So basically, the melt function added hella rows because it does not discriminate between True and False values. It went from each petition being referenced in only one row to each petition being referenced in 15 rows (since there are 15 columns that we pivoted). \n",
    "\n",
    "#### It's not necessary to retain the rows where value = False, since that means that that complaint wasn't included in the petition. So the next cell filters the melted dataframe to those where the value in the value column = True."
   ]
  },
  {
   "cell_type": "code",
   "execution_count": 60,
   "id": "5cf24224-e5ea-4fa8-b0cb-295556a9c039",
   "metadata": {},
   "outputs": [],
   "source": [
    "true_values = melted_tenant_petitions[melted_tenant_petitions.value == True]"
   ]
  },
  {
   "cell_type": "markdown",
   "id": "7c412d18-dfff-4c76-be65-18a474211351",
   "metadata": {},
   "source": [
    "#### That means each row will now refer to a specific complaint, unlike before where each row referred to a discrete petition. This is important for two reasons. Firstly, we can expect to see more rows in the true_values dataframe, since, as discussed above, a petition can include several complaints in one. (I've also reached out to the city to clarify/confirm.)"
   ]
  },
  {
   "cell_type": "code",
   "execution_count": 61,
   "id": "1de16d34-5b44-4781-a789-89fd7c94c295",
   "metadata": {},
   "outputs": [
    {
     "data": {
      "text/plain": [
       "17270"
      ]
     },
     "execution_count": 61,
     "metadata": {},
     "output_type": "execute_result"
    }
   ],
   "source": [
    "len(true_values) #gonna assume for now that there are a few petitions that allege several wrongdoings...have reached out for more information"
   ]
  },
  {
   "cell_type": "markdown",
   "id": "79504c1b-d224-49a5-8ede-4aefa7e3d688",
   "metadata": {},
   "source": [
    "#### Secondly, it's important to understand that each row refers to a single complaint because that will judge how we make conclusions about the data. Going forward, we can't discuss the data as the number of people who filed a petition. Instead, we must discuss it in terms of complaints. X is how many times complaint Y was alleged, for example."
   ]
  },
  {
   "cell_type": "markdown",
   "id": "e4487911-c69f-4087-9c9f-11d8aeb5faae",
   "metadata": {},
   "source": [
    "#### Ok last step before we get to the fun stuff. Let's see how many rows are duplicated:"
   ]
  },
  {
   "cell_type": "code",
   "execution_count": 62,
   "id": "b5604b9f-1d78-4676-8a57-6717dc37c3e4",
   "metadata": {},
   "outputs": [],
   "source": [
    "duplicates = true_values.duplicated(subset=None, keep='first').reset_index()"
   ]
  },
  {
   "cell_type": "code",
   "execution_count": 63,
   "id": "a35dc3e2-6e84-48d1-8b02-17fe841574f3",
   "metadata": {},
   "outputs": [
    {
     "data": {
      "text/html": [
       "<div>\n",
       "<style scoped>\n",
       "    .dataframe tbody tr th:only-of-type {\n",
       "        vertical-align: middle;\n",
       "    }\n",
       "\n",
       "    .dataframe tbody tr th {\n",
       "        vertical-align: top;\n",
       "    }\n",
       "\n",
       "    .dataframe thead th {\n",
       "        text-align: right;\n",
       "    }\n",
       "</style>\n",
       "<table border=\"1\" class=\"dataframe\">\n",
       "  <thead>\n",
       "    <tr style=\"text-align: right;\">\n",
       "      <th></th>\n",
       "      <th>petition_id</th>\n",
       "      <th>date_filed</th>\n",
       "      <th>Priority</th>\n",
       "      <th>appeal_id</th>\n",
       "      <th>filing_party</th>\n",
       "      <th>prop_i_petition</th>\n",
       "      <th>Address</th>\n",
       "      <th>petition_zip_code</th>\n",
       "      <th>supervisor_district</th>\n",
       "      <th>neighborhoods</th>\n",
       "      <th>shape</th>\n",
       "      <th>year</th>\n",
       "      <th>month</th>\n",
       "      <th>reason</th>\n",
       "      <th>value</th>\n",
       "    </tr>\n",
       "  </thead>\n",
       "  <tbody>\n",
       "    <tr>\n",
       "      <th>144598</th>\n",
       "      <td>T191001</td>\n",
       "      <td>2019-06-21</td>\n",
       "      <td>False</td>\n",
       "      <td>NaN</td>\n",
       "      <td>tenant</td>\n",
       "      <td>NaN</td>\n",
       "      <td>200 Block Of Valencia Street</td>\n",
       "      <td>94103</td>\n",
       "      <td>8.0</td>\n",
       "      <td>Mission</td>\n",
       "      <td>POINT (-122.42233 37.769573)</td>\n",
       "      <td>2019</td>\n",
       "      <td>6</td>\n",
       "      <td>tenant_other</td>\n",
       "      <td>True</td>\n",
       "    </tr>\n",
       "    <tr>\n",
       "      <th>145351</th>\n",
       "      <td>T191001</td>\n",
       "      <td>2019-06-21</td>\n",
       "      <td>False</td>\n",
       "      <td>NaN</td>\n",
       "      <td>tenant</td>\n",
       "      <td>NaN</td>\n",
       "      <td>200 Block Of Valencia Street</td>\n",
       "      <td>94103</td>\n",
       "      <td>8.0</td>\n",
       "      <td>Mission</td>\n",
       "      <td>POINT (-122.42233 37.769573)</td>\n",
       "      <td>2019</td>\n",
       "      <td>6</td>\n",
       "      <td>tenant_other</td>\n",
       "      <td>True</td>\n",
       "    </tr>\n",
       "  </tbody>\n",
       "</table>\n",
       "</div>"
      ],
      "text/plain": [
       "       petition_id date_filed  Priority appeal_id filing_party  \\\n",
       "144598     T191001 2019-06-21     False       NaN       tenant   \n",
       "145351     T191001 2019-06-21     False       NaN       tenant   \n",
       "\n",
       "       prop_i_petition                       Address petition_zip_code  \\\n",
       "144598             NaN  200 Block Of Valencia Street             94103   \n",
       "145351             NaN  200 Block Of Valencia Street             94103   \n",
       "\n",
       "        supervisor_district neighborhoods                         shape  year  \\\n",
       "144598                  8.0       Mission  POINT (-122.42233 37.769573)  2019   \n",
       "145351                  8.0       Mission  POINT (-122.42233 37.769573)  2019   \n",
       "\n",
       "        month        reason  value  \n",
       "144598      6  tenant_other   True  \n",
       "145351      6  tenant_other   True  "
      ]
     },
     "execution_count": 63,
     "metadata": {},
     "output_type": "execute_result"
    }
   ],
   "source": [
    "true_values[true_values.duplicated(keep=False)]"
   ]
  },
  {
   "cell_type": "markdown",
   "id": "d851b48b-f7c7-4677-a0b6-04d96ee53323",
   "metadata": {},
   "source": [
    "#### Looks like there's only one row that's repeated in the whole dataframe. That's a relief. I'm gonna remove that one row from the dataframe. "
   ]
  },
  {
   "cell_type": "code",
   "execution_count": 64,
   "id": "af5aef33-f3ae-4b36-9114-a54c658b9184",
   "metadata": {
    "tags": []
   },
   "outputs": [],
   "source": [
    "true_values= true_values.drop_duplicates(subset=None, \n",
    "                            keep='first') "
   ]
  },
  {
   "cell_type": "markdown",
   "id": "b8ae0b14-f764-447c-9bdd-5cffb2c8176e",
   "metadata": {},
   "source": [
    "#### To quell my anxiety, I will check that my .drop_duplicates() function worked. The length of the dataframe now should equal 17270 minus one. "
   ]
  },
  {
   "cell_type": "code",
   "execution_count": 65,
   "id": "c19de8de-ebf4-46de-b980-e4a20c9d09a4",
   "metadata": {},
   "outputs": [
    {
     "data": {
      "text/plain": [
       "17269"
      ]
     },
     "execution_count": 65,
     "metadata": {},
     "output_type": "execute_result"
    }
   ],
   "source": [
    "len(true_values)"
   ]
  },
  {
   "cell_type": "markdown",
   "id": "4fecc5de-dd09-4f86-8d55-0aed3b698879",
   "metadata": {},
   "source": [
    "#### Alright, we're good so far. I'm going to save the filtered/cleaned dataframe using the relative path I defined earlier. This will make it easy for any user to pick up at the analysis stage. "
   ]
  },
  {
   "cell_type": "code",
   "execution_count": 66,
   "id": "15eb4260-0a73-4eb9-af50-d6f0e74f3f8b",
   "metadata": {},
   "outputs": [],
   "source": [
    "true_values_path = os.path.join(processed_data, 'tenant_petitions_2010.csv')\n",
    "true_values.to_csv(true_values_path, index=False)"
   ]
  }
 ],
 "metadata": {
  "kernelspec": {
   "display_name": "Python 3 (ipykernel)",
   "language": "python",
   "name": "python3"
  },
  "language_info": {
   "codemirror_mode": {
    "name": "ipython",
    "version": 3
   },
   "file_extension": ".py",
   "mimetype": "text/x-python",
   "name": "python",
   "nbconvert_exporter": "python",
   "pygments_lexer": "ipython3",
   "version": "3.9.9"
  }
 },
 "nbformat": 4,
 "nbformat_minor": 5
}
